{
  "cells": [
    {
      "cell_type": "code",
      "execution_count": 1,
      "metadata": {},
      "outputs": [
        {
          "name": "stdout",
          "output_type": "stream",
          "text": [
            "Populating the interactive namespace from numpy and matplotlib\n"
          ]
        }
      ],
      "source": [
        "%pylab inline"
      ]
    },
    {
      "cell_type": "code",
      "execution_count": 2,
      "metadata": {},
      "outputs": [
        {
          "name": "stderr",
          "output_type": "stream",
          "text": [
            "/home/dataiku/dss/code-envs/python/podcast_reader_ffmpeg/lib/python2.7/site-packages/pydub/utils.py:165: RuntimeWarning: Couldn\u0027t find ffmpeg or avconv - defaulting to ffmpeg, but may not work\n",
            "  warn(\"Couldn\u0027t find ffmpeg or avconv - defaulting to ffmpeg, but may not work\", RuntimeWarning)\n"
          ]
        }
      ],
      "source": [
        "# -*- coding: utf-8 -*-\n",
        "import dataiku\n",
        "import pandas as pd\n",
        "import numpy as np\n",
        "import requests \n",
        "import ffmpeg\n",
        "import ffprobe3\n",
        "import speech_recognition as sr\n",
        "from pydub import AudioSegment\n",
        "import sys"
      ]
    },
    {
      "cell_type": "code",
      "metadata": {},
      "outputs": [],
      "source": [
        "#downloads_dir \u003d r\"episodes_wavs\""
      ]
    },
    {
      "cell_type": "code",
      "execution_count": 3,
      "metadata": {},
      "outputs": [],
      "source": [
        "r \u003d sr.Recognizer()"
      ]
    },
    {
      "cell_type": "code",
      "execution_count": 12,
      "metadata": {},
      "outputs": [],
      "source": [
        "# Read recipe inputs\n",
        "episodes_sample \u003d dataiku.Dataset(\"episodes_sample\")\n",
        "episodes_sample_df \u003d episodes_sample.get_dataframe()"
      ]
    },
    {
      "cell_type": "code",
      "execution_count": 6,
      "metadata": {},
      "outputs": [],
      "source": [
        "episode_wavs_folder \u003d dataiku.Folder(\"episoide_wavs\")"
      ]
    },
    {
      "cell_type": "code",
      "execution_count": 7,
      "metadata": {},
      "outputs": [],
      "source": [
        "folder_path \u003d episode_wavs_folder.get_path()"
      ]
    },
    {
      "cell_type": "code",
      "execution_count": 10,
      "metadata": {},
      "outputs": [
        {
          "data": {
            "text/plain": [
              "u\u0027/home/dataiku/dss/managed_datasets/PODCAST_READER/7PhFmxxL\u0027"
            ]
          },
          "execution_count": 10,
          "metadata": {},
          "output_type": "execute_result"
        }
      ],
      "source": [
        "folder_path"
      ]
    },
    {
      "cell_type": "code",
      "execution_count": 13,
      "metadata": {},
      "outputs": [
        {
          "name": "stdout",
          "output_type": "stream",
          "text": [
            "{u\u0027category\u0027: u\u0027Voyager\u0027, u\u0027show_id\u0027: u\u0027580ca3d7-1d85-3ef3-a1b4-c6f4edf9ff65\u0027, u\u0027subtitle\u0027: u\u0027Top Five Out-of-Character Moments. From small gripes to glaring errors, Char and Tristan run through their top five out-of-character moments on Voyager in this episode of To The Journey.\u0027, u\u0027description\u0027: u\"\u003ch3\u003eTop Five Out-of-Character Moments.\u0026nbsp;\u003c/h3\u003e\u003cp\u003eWhether it\u0027s due to a temporal rift or an alien virus, one of the most common ways that we as a Star Trek audience know that something isn\u0027t right is by making a character say or do something they normal\", u\u0027title\u0027: u\u0027To The Journey 138: George Clooney Found His Janeway\u0027, u\u0027audio_mime_type\u0027: u\u0027audio/mpeg\u0027, u\u0027author\u0027: u\u0027Trek.fm\u0027, u\u0027explicit\u0027: u\u00270\u0027, u\u0027audio_file_size\u0027: u\u002732657154\u0027, u\u0027summary\u0027: u\"Top Five Out-of-Character Moments.   Whether it\u0027s due to a temporal rift or an alien virus, one of the most common ways that we as a Star Trek audience know that something isn\u0027t right is by making a character say or do something they normally would not. Our heroes sift through clues that help them determine what is going on so they can make things right...usually. There are times that these out-of character moments aren\u0027t as intentional but make it to the screen nevertheless. Sometimes it\u0027s a small glitch from a new writer or director who doesn\u0027t fully know a character. Other times, it\u0027s a glaring mistake that stems from sloppy and inconsistent writing. Whatever the reason, it\u0027s frustrating to the viewer. In this episode of To The Journey, Char and Tristan break down their top five out-of-character moments on Voyager, \\u200bfrom microwormhole-sized gripes to macroviral errors.  Hosts Tristan Riddell and Charlynn Schmiedt  Editor Tristan Riddell  Producer Charlynn Schmiedt  Executive Producers Charlynn Schmiedt, Norman C. Lao, Matthew Rushing, and C. Bryan Jones  Associate Producers Kenneth Trip, Jamie Duce and Aaron Harvey  Production Manager Richard Marquez  Content Manager Will Nguyen  Send us your feedback! Twitter: @trekfm Facebook: http://facebook.com/trekfm Voicemail: http://www.speakpipe.com/trekfm Contact Form: http://www.trek.fm/contact Visit the Trek.fm website at http://trek.fm Subscribe in iTunes: http://itunes.com/trekfm   Support the Network! Become a Trek.fm Patron on Patreon and help us keep Star Trek talk coming every week. We have great perks for you at http://patreon.com/trekfm\", u\u0027audio_url\u0027: u\u0027http://traffic.libsyn.com/tothejourney/ttj-138.mp3\u0027, u\u0027length\u0027: u\u00272651\u0027, u\u0027link\u0027: u\u0027http://trek.fm/to-the-journey/138\u0027, u\u0027keywords\u0027: u\u0027Podcasts,To,The,Journey,Voyager,Lists,Out-of-character,moments,Janeway,Equinox,Kes,Fury\u0027, u\u0027guid\u0027: u\u00274ff44f9bc4aa4a0dd8ca3ab3:50cd794ae4b08d91f1b65135:560c73f5e4b093206c06ca9e\u0027, u\u0027pub_date\u0027: u\u00272015-09-30 23:44:45 UTC\u0027, u\u0027id\u0027: u\u002701154863-5892-3bdb-bd55-969689561906\u0027}\n",
            "1: http://traffic.libsyn.com/tothejourney/ttj-138.mp3\n"
          ]
        },
        {
          "ename": "IOError",
          "evalue": "[Errno 13] Permission denied: u\u0027/home/dataiku/dss/managed_datasets/PODCAST_READER/7PhFmxxL/audio_file.mp3\u0027",
          "output_type": "error",
          "traceback": [
            "\u001b[0;31m\u001b[0m",
            "\u001b[0;31mIOError\u001b[0mTraceback (most recent call last)",
            "\u001b[0;32m\u003cipython-input-13-904b8b888667\u003e\u001b[0m in \u001b[0;36m\u003cmodule\u003e\u001b[0;34m()\u001b[0m\n\u001b[1;32m     15\u001b[0m     \u001b[0murl\u001b[0m \u001b[0;34m\u003d\u001b[0m \u001b[0mrow\u001b[0m\u001b[0;34m[\u001b[0m\u001b[0;34m\u0027audio_url\u0027\u001b[0m\u001b[0;34m]\u001b[0m\u001b[0;34m\u001b[0m\u001b[0m\n\u001b[1;32m     16\u001b[0m     \u001b[0mfile\u001b[0m \u001b[0;34m\u003d\u001b[0m \u001b[0mrequests\u001b[0m\u001b[0;34m.\u001b[0m\u001b[0mget\u001b[0m\u001b[0;34m(\u001b[0m\u001b[0murl\u001b[0m\u001b[0;34m)\u001b[0m\u001b[0;34m\u001b[0m\u001b[0m\n\u001b[0;32m---\u003e 17\u001b[0;31m     \u001b[0mopen\u001b[0m\u001b[0;34m(\u001b[0m\u001b[0mfolder_path\u001b[0m \u001b[0;34m+\u001b[0m \u001b[0;34m\"/audio_file.mp3\"\u001b[0m\u001b[0;34m,\u001b[0m\u001b[0;34m\"wb\"\u001b[0m\u001b[0;34m)\u001b[0m\u001b[0;34m.\u001b[0m\u001b[0mwrite\u001b[0m\u001b[0;34m(\u001b[0m\u001b[0mfile\u001b[0m\u001b[0;34m.\u001b[0m\u001b[0mcontent\u001b[0m\u001b[0;34m)\u001b[0m\u001b[0;34m\u001b[0m\u001b[0m\n\u001b[0m\u001b[1;32m     18\u001b[0m     \u001b[0msound\u001b[0m \u001b[0;34m\u003d\u001b[0m \u001b[0mAudioSegment\u001b[0m\u001b[0;34m.\u001b[0m\u001b[0mfrom_mp3\u001b[0m\u001b[0;34m(\u001b[0m\u001b[0mfolder_path\u001b[0m \u001b[0;34m+\u001b[0m \u001b[0;34m\"/audio_file.mp3\"\u001b[0m\u001b[0;34m)\u001b[0m\u001b[0;34m\u001b[0m\u001b[0m\n\u001b[1;32m     19\u001b[0m     \u001b[0msound\u001b[0m\u001b[0;34m.\u001b[0m\u001b[0mexport\u001b[0m\u001b[0;34m(\u001b[0m\u001b[0mdownloads_dir\u001b[0m \u001b[0;34m+\u001b[0m \u001b[0;34m\"audio_file.wav\"\u001b[0m\u001b[0;34m,\u001b[0m \u001b[0mformat\u001b[0m\u001b[0;34m\u003d\u001b[0m\u001b[0;34m\"wav\"\u001b[0m\u001b[0;34m)\u001b[0m\u001b[0;34m\u001b[0m\u001b[0m\n",
            "\u001b[0;31mIOError\u001b[0m: [Errno 13] Permission denied: u\u0027/home/dataiku/dss/managed_datasets/PODCAST_READER/7PhFmxxL/audio_file.mp3\u0027"
          ]
        }
      ],
      "source": [
        "# Compute recipe outputs from inputs\n",
        "# TODO: Replace this part by your actual code that computes the output, as a Pandas dataframe\n",
        "# NB: DSS also supports other kinds of APIs for reading and writing data. Please see doc.\n",
        "\n",
        "episodes_text_df \u003d episodes_sample_df # For this sample code, simply copy input to output\n",
        "episodes_text_df[\"episode_text\"] \u003d \"\"\n",
        "list_of_text \u003d []\n",
        "\n",
        "already_read \u003d 0\n",
        "for row in episodes_sample.iter_rows():\n",
        "    print(row)\n",
        "    # row is a dict-like object\n",
        "    print(str(already_read+1) +\": \" + row[\u0027audio_url\u0027])\n",
        "    \n",
        "    url \u003d row[\u0027audio_url\u0027]\n",
        "    file \u003d requests.get(url)\n",
        "    open(folder_path + \"/audio_file.mp3\",\"wb\").write(file.content)\n",
        "    sound \u003d AudioSegment.from_mp3(folder_path + \"/audio_file.mp3\")\n",
        "    sound.export(downloads_dir + \"audio_file.wav\", format\u003d\"wav\")\n",
        "    \n",
        "    total_time \u003d round(sound.duration_seconds)\n",
        "    offset \u003d 0\n",
        "    duration \u003d 60\n",
        "    subsegments \u003d int(round((total_time-offset)/duration))\n",
        "    \n",
        "    s \u003d \"\"\n",
        "    with sr.AudioFile(downloads_dir + \"audio_file.wav\") as source:\n",
        "        for subsegment in range(1,subsegments):\n",
        "            print(\"Subsegment \" + str(subsegment) + \" out of \" + str(subsegments))\n",
        "        \n",
        "            audio \u003d r.record(source,offset\u003doffset+(subsegment-1)*duration,duration\u003dduration)  # read the entire audio file                  \n",
        "            try:\n",
        "                s\u003d s + \" \" + r.recognize_google(audio)\n",
        "            except:\n",
        "                s \u003d s + \" NA\"\n",
        "    print(s)      \n",
        "    list_of_text.append(s)\n",
        "\n",
        "    already_read +\u003d 1\n",
        "    if already_read \u003d\u003d 5:\n",
        "        break\n",
        "\n",
        "episodes_text_df[\"episode_text\"] \u003d pd.Series(list_of_text)        \n",
        "\n",
        "# Write recipe outputs\n",
        "episodes_text \u003d dataiku.Dataset(\"episodes_text\")\n",
        "episodes_text.write_with_schema(episodes_text_df)"
      ]
    },
    {
      "cell_type": "code",
      "execution_count": 0,
      "metadata": {},
      "outputs": [],
      "source": []
    },
    {
      "cell_type": "code",
      "execution_count": 0,
      "metadata": {},
      "outputs": [],
      "source": []
    },
    {
      "cell_type": "code",
      "execution_count": 0,
      "metadata": {},
      "outputs": [],
      "source": []
    }
  ],
  "metadata": {
    "analyzedDataset": "episodes_sample",
    "creator": "asamant",
    "customFields": {},
    "kernelspec": {
      "display_name": "Python 2",
      "language": "python",
      "name": ""
    },
    "language_info": {
      "codemirror_mode": {
        "name": "ipython",
        "version": 2
      },
      "file_extension": ".py",
      "mimetype": "text/x-python",
      "name": "python",
      "nbconvert_exporter": "python",
      "pygments_lexer": "ipython2",
      "version": "2.7.5"
    },
    "tags": []
  },
  "nbformat": 4,
  "nbformat_minor": 1
}