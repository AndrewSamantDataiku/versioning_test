{
  "cells": [
    {
      "cell_type": "code",
      "execution_count": 1,
      "metadata": {},
      "outputs": [
        {
          "name": "stdout",
          "output_type": "stream",
          "text": [
            "Populating the interactive namespace from numpy and matplotlib\n"
          ]
        }
      ],
      "source": [
        "%pylab inline"
      ]
    },
    {
      "cell_type": "code",
      "execution_count": 2,
      "metadata": {},
      "outputs": [
        {
          "name": "stderr",
          "output_type": "stream",
          "text": [
            "/home/dataiku/dss/code-envs/python/podcast_reader/lib/python3.6/site-packages/pydub/utils.py:165: RuntimeWarning: Couldn\u0027t find ffmpeg or avconv - defaulting to ffmpeg, but may not work\n",
            "  warn(\"Couldn\u0027t find ffmpeg or avconv - defaulting to ffmpeg, but may not work\", RuntimeWarning)\n"
          ]
        }
      ],
      "source": [
        "import dataiku\n",
        "from dataiku import pandasutils as pdu\n",
        "import pandas as pd\n",
        "import numpy as np\n",
        "import requests \n",
        "import ffmpeg\n",
        "import speech_recognition as sr\n",
        "from pydub import AudioSegment\n",
        "import sys\n"
      ]
    },
    {
      "cell_type": "code",
      "execution_count": 3,
      "metadata": {},
      "outputs": [],
      "source": [
        "file \u003d requests.get(\u0027http://feedproxy.google.com/~r/twgpodcast/~5/kWtkNwDVMl8/69909432-sbstheworldgame-the-world-game-podcast-4.mp3\u0027)"
      ]
    },
    {
      "cell_type": "code",
      "metadata": {},
      "outputs": [],
      "source": []
    }
  ],
  "metadata": {
    "creator": "asamant",
    "customFields": {},
    "kernelspec": {
      "display_name": "Python 2",
      "language": "python",
      "name": ""
    },
    "language_info": {
      "codemirror_mode": {
        "name": "ipython",
        "version": 3
      },
      "file_extension": ".py",
      "mimetype": "text/x-python",
      "name": "python",
      "nbconvert_exporter": "python",
      "pygments_lexer": "ipython3",
      "version": "3.6.8"
    },
    "tags": []
  },
  "nbformat": 4,
  "nbformat_minor": 1
}