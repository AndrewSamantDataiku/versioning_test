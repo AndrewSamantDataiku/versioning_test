{
 "cells": [
  {
   "cell_type": "code",
   "execution_count": 0,
   "metadata": {},
   "outputs": [],
   "source": [
    "\n",
    "def read_episode(url):\n",
    "\n",
    "    import requests\n",
    "    file = requests.get(url)\n",
    "\n",
    "    with open(\"audio.mp3\", 'wb') as w:\n",
    "        w.write(file.content)\n",
    "\n",
    "    from mutagen.mp3 import MP3\n",
    "    duration = MP3(\"audio.mp3\").info.length\n",
    "    import math\n",
    "    chunk_count = int(math.ceil(duration/30))\n",
    "\n",
    "    s= list()\n",
    "\n",
    "    import speech_recognition as sr\n",
    "    r = sr.Recognizer()\n",
    "    for c in range(1,chunk_count):\n",
    "        subprocess.call([\"ffmpeg\",\"-y\",\n",
    "                             \"-ss\",str( (c-1)*30),\n",
    "                             \"-i\",\"audio.mp3\",\n",
    "                             \"-r\",\"16000\",\n",
    "                             \"-ac\",\"1\",\n",
    "                             \"-t\",\"30\",\n",
    "                             \"audio_part_\" + str(c) + \".wav\"])\n",
    "\n",
    "\n",
    "        with sr.AudioFile(\"audio_part_\" + str(c) + \".wav\") as source:\n",
    "            audio = r.record(source)\n",
    "            #try:\n",
    "            recognized = r.recognize_google(audio)\n",
    "            #except:\n",
    "            #    recognized = \"\"\n",
    "        s.append( recognized )\n",
    "\n",
    "    return s\n",
    "\n",
    "episodes_sample_df['text'] = []\n",
    "rdf2 = rdf.withColumn( 'text',read_udf('audio_url'))\n",
    "\n",
    "\n",
    "\n",
    "# Compute recipe outputs from inputs\n",
    "# TODO: Replace this part by your actual code that computes the output, as a SparkSQL dataframe\n",
    "#episodes_read_df = rdf2.to_pandas() # For this sample code, simply copy input to output\n",
    "\n",
    "# Write recipe outputs\n",
    "episodes_read = dataiku.Dataset(\"episodes_read\")\n",
    "dkuspark.write_with_schema(episodes_read, rdf2)"
   ]
  },
  {
   "cell_type": "code",
   "execution_count": 2,
   "metadata": {},
   "outputs": [],
   "source": [
    "import dataiku\n",
    "import pandas as pd\n",
    "import numpy as np\n",
    "\n",
    "episodes_sample = dataiku.Dataset(\"episodes_sample_filtered\")\n",
    "episodes_sample_df = episodes_sample.get_dataframe()\n"
   ]
  },
  {
   "cell_type": "code",
   "execution_count": 6,
   "metadata": {},
   "outputs": [],
   "source": [
    "l = []\n",
    "episodes_sample_df['text'] = ''"
   ]
  },
  {
   "cell_type": "code",
   "execution_count": 9,
   "metadata": {},
   "outputs": [
    {
     "name": "stderr",
     "output_type": "stream",
     "text": [
      "/data/dataiku/dataiku-dss-8.0.1/python.packages/pandas/core/indexing.py:189: SettingWithCopyWarning: \n",
      "A value is trying to be set on a copy of a slice from a DataFrame\n",
      "\n",
      "See the caveats in the documentation: http://pandas.pydata.org/pandas-docs/stable/indexing.html#indexing-view-versus-copy\n",
      "  self._setitem_with_indexer(indexer, value)\n"
     ]
    }
   ],
   "source": [
    "episodes_sample_df['text'].iloc[0] = ['p','p']"
   ]
  },
  {
   "cell_type": "code",
   "execution_count": 11,
   "metadata": {},
   "outputs": [
    {
     "data": {
      "text/plain": [
       "id                              01154863-5892-3bdb-bd55-969689561906\n",
       "show_id                         580ca3d7-1d85-3ef3-a1b4-c6f4edf9ff65\n",
       "title              To The Journey 138: George Clooney Found His J...\n",
       "link                               http://trek.fm/to-the-journey/138\n",
       "guid               4ff44f9bc4aa4a0dd8ca3ab3:50cd794ae4b08d91f1b65...\n",
       "subtitle           Top Five Out-of-Character Moments. From small ...\n",
       "description        <h3>Top Five Out-of-Character Moments.&nbsp;</...\n",
       "summary            Top Five Out-of-Character Moments.   Whether i...\n",
       "author                                                       Trek.fm\n",
       "audio_url          http://traffic.libsyn.com/tothejourney/ttj-138...\n",
       "audio_file_size                                             32657154\n",
       "audio_mime_type                                           audio/mpeg\n",
       "category                                                     Voyager\n",
       "explicit                                                           0\n",
       "length                                                          2651\n",
       "pub_date                                     2015-09-30 23:44:45 UTC\n",
       "keywords           Podcasts,To,The,Journey,Voyager,Lists,Out-of-c...\n",
       "text                                                          [p, p]\n",
       "Name: 0, dtype: object"
      ]
     },
     "execution_count": 11,
     "metadata": {},
     "output_type": "execute_result"
    }
   ],
   "source": [
    "episodes_sample_df.iloc[0]"
   ]
  },
  {
   "cell_type": "code",
   "execution_count": null,
   "metadata": {},
   "outputs": [],
   "source": []
  }
 ],
 "metadata": {
  "associatedRecipe": "compute_episodes_text_read",
  "creator": "admin",
  "customFields": {},
  "kernelspec": {
   "display_name": "Python 2",
   "language": "python",
   "name": "python2"
  },
  "language_info": {
   "codemirror_mode": {
    "name": "ipython",
    "version": 2
   },
   "file_extension": ".py",
   "mimetype": "text/x-python",
   "name": "python",
   "nbconvert_exporter": "python",
   "pygments_lexer": "ipython2",
   "version": "2.7.18"
  },
  "tags": [
   "recipe-editor"
  ]
 },
 "nbformat": 4,
 "nbformat_minor": 1
}
