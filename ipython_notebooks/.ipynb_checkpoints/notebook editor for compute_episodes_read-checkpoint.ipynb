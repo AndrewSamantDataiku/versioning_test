{
 "cells": [
  {
   "cell_type": "code",
   "execution_count": 1,
   "metadata": {},
   "outputs": [
    {
     "name": "stderr",
     "output_type": "stream",
     "text": [
      "/data/dataiku/data_dir/code-envs/python/ffmpeg_27/local/lib/python2.7/dist-packages/pydub/utils.py:170: RuntimeWarning: Couldn't find ffmpeg or avconv - defaulting to ffmpeg, but may not work\n",
      "  warn(\"Couldn't find ffmpeg or avconv - defaulting to ffmpeg, but may not work\", RuntimeWarning)\n"
     ]
    }
   ],
   "source": [
    "# -*- coding: utf-8 -*-\n",
    "import dataiku\n",
    "from dataiku import spark as dkuspark\n",
    "import dataiku.spark as dspark\n",
    "from pyspark import SparkContext\n",
    "from pyspark.sql import SQLContext\n",
    "from pyspark.sql.types import *\n",
    "from pyspark.sql.functions import udf\n",
    "import pandas as pd\n",
    "import numpy as np\n",
    "import requests\n",
    "import ffmpeg\n",
    "import speech_recognition as sr\n",
    "import subprocess\n",
    "from pydub import AudioSegment\n",
    "import os\n",
    "import scipy.io.wavfile as wav\n",
    "\n",
    "sc = SparkContext.getOrCreate()\n",
    "sqlContext = SQLContext(sc)\n",
    "\n",
    "MAX_EPISODES = 500\n",
    "\n",
    "\n",
    "r = sr.Recognizer()\n",
    "\n",
    "episodes_sample = dataiku.Dataset(\"episodes_sample_filtered\")\n",
    "\n",
    "episodes_sample_df = dspark.get_dataframe(sqlContext, episodes_sample)\n",
    "\n",
    "mp3_folder = dataiku.Folder(\"mp3_files_local\")\n",
    "wav_folder = dataiku.Folder(\"wav_files_local\")\n"
   ]
  },
  {
   "cell_type": "code",
   "execution_count": null,
   "metadata": {},
   "outputs": [],
   "source": [
    "\n",
    "def read_episode(url):\n",
    "\n",
    "    import subprocess\n",
    "    \n",
    "#    import requests\n",
    "#    file = requests.get(url)\n",
    "#    mp3_folder = dataiku.Folder(\"mp3_files_local\")\n",
    "#    with open(\"audio.mp3\", 'wb') as w:\n",
    "#        w.write(file.content)\n",
    "\n",
    "#    from pydub import AudioSegment\n",
    "#    AudioSegment.from_mp3(\"audio.mp3\").export(\"/tmp/audio.wav\", format=\"wav\")\n",
    "#    mp3_folder.delete_path(mp3_folder.get_path() + \"/\" + audio_id + \".mp3\")\n",
    "    return url\n",
    "\n",
    "read_udf = udf(lambda z: read_episode(z), StringType())\n"
   ]
  },
  {
   "cell_type": "code",
   "execution_count": null,
   "metadata": {},
   "outputs": [],
   "source": [
    "\n",
    "rdf = episodes_sample_df\n",
    "rdf2 = rdf.withColumn( 'url_out',read_udf('audio_url'))\n",
    "\n",
    "\n",
    "\n",
    "# Compute recipe outputs from inputs\n",
    "# TODO: Replace this part by your actual code that computes the output, as a SparkSQL dataframe\n",
    "#episodes_read_df = rdf2.to_pandas() # For this sample code, simply copy input to output\n",
    "\n",
    "# Write recipe outputs\n",
    "episodes_read = dataiku.Dataset(\"episodes_read\")\n",
    "dkuspark.write_with_schema(episodes_read, rdf2)"
   ]
  },
  {
   "cell_type": "code",
   "execution_count": null,
   "metadata": {},
   "outputs": [],
   "source": []
  }
 ],
 "metadata": {
  "associatedRecipe": "compute_episodes_read",
  "creator": "admin",
  "customFields": {},
  "kernelspec": {
   "display_name": "Python (env ffmpeg_27)",
   "language": "python",
   "name": "py-dku-venv-ffmpeg_27"
  },
  "language_info": {
   "codemirror_mode": {
    "name": "ipython",
    "version": 2
   },
   "file_extension": ".py",
   "mimetype": "text/x-python",
   "name": "python",
   "nbconvert_exporter": "python",
   "pygments_lexer": "ipython2",
   "version": "2.7.18"
  },
  "tags": [
   "recipe-editor"
  ]
 },
 "nbformat": 4,
 "nbformat_minor": 1
}
