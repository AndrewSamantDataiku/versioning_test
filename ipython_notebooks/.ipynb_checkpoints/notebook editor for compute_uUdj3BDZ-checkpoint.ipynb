{
 "cells": [
  {
   "cell_type": "code",
   "execution_count": 2,
   "metadata": {},
   "outputs": [
    {
     "name": "stderr",
     "output_type": "stream",
     "text": [
      "/home/dataiku/dss/code-envs/python/podcast_reader_ffmpeg/lib/python2.7/site-packages/pydub/utils.py:165: RuntimeWarning: Couldn't find ffmpeg or avconv - defaulting to ffmpeg, but may not work\n",
      "  warn(\"Couldn't find ffmpeg or avconv - defaulting to ffmpeg, but may not work\", RuntimeWarning)\n"
     ]
    },
    {
     "name": "stdout",
     "output_type": "stream",
     "text": [
      "Accessing URL: http://traffic.libsyn.com/tothejourney/ttj-138.mp3\n",
      "Accessing URL: http://feedproxy.google.com/~r/twgpodcast/~5/kWtkNwDVMl8/69909432-sbstheworldgame-the-world-game-podcast-4.mp3\n",
      "Accessing URL: http://traffic.libsyn.com/shaneandtom/drunk_dripping_drunk.mp3?dest-id=26206\n",
      "Accessing URL: http://preemptionbroadcast.podOmatic.com/enclosure/2011-09-09T16_29_57-07_00.mp3\n",
      "Accessing URL: http://traffic.libsyn.com/macosken/macosken120822.mp3?dest-id=11799\n"
     ]
    }
   ],
   "source": [
    "import matplotlib\n",
    "import dataiku\n",
    "import pandas as pd\n",
    "import numpy as np\n",
    "import requests\n",
    "import ffmpeg\n",
    "import speech_recognition as sr\n",
    "import subprocess\n",
    "from pydub import AudioSegment\n",
    "\n",
    "\n",
    "r = sr.Recognizer()\n",
    "\n",
    "episodes_sample = dataiku.Dataset(\"episodes_sample\")\n",
    "episodes_sample_df = episodes_sample.get_dataframe()\n",
    "\n",
    "episode_wavs_folder = dataiku.Folder(\"episodes_wavs\")\n",
    "episode_mp3_folder = dataiku.Folder(\"episodes_mp3\")\n",
    "folder_path = episode_wavs_folder.get_path()\n",
    "mp3_folder_path = episode_mp3_folder.get_path()\n",
    "\n",
    "already_read = 0\n",
    "\n",
    "for row in episodes_sample.iter_rows():\n",
    "\n",
    "\n",
    "    already_read += 1\n",
    "    audio_id = row['id']\n",
    "    url = row['audio_url']\n",
    "    print(\"Accessing URL: \" + url)\n",
    "    file = requests.get(url)\n",
    "    open(mp3_folder_path + \"/\" + audio_id + \".mp3\",\"wb\").write(file.content)\n",
    "    #try:\n",
    "    subprocess.call([\"/opt/ffmpeg/bin/ffmpeg\",\"-y\",\n",
    "                         \"-i\",mp3_folder_path + \"/\" + audio_id + \".mp3\",\n",
    "                         \"-r\",\"16000\",\n",
    "                         \"-ac\",\"1\",\n",
    "                         \"-c\",\"copy\",\n",
    "                         \"-map\",\"0\",\n",
    "                         \"-segment_time\",\"00:02:00\",\n",
    "                         \"-f\",\"segment\",\n",
    "                         folder_path + \"/\" + audio_id+ \"%03d.wav\"])\n",
    "    #except:\n",
    "    #    print(\"Failed on: \" + url)\n",
    "\n",
    "\n",
    "    \"\"\"\n",
    "    sound = AudioSegment.from_mp3(mp3_folder_path + \"/\" + audio_id + \".mp3\").set_channels(1).set_frame_rate(16000)\n",
    "    total_time = round(sound.duration_seconds)\n",
    "    offset = 0\n",
    "    duration = 60\n",
    "    subsegments = int(round((total_time-offset)/duration))\n",
    "\n",
    "    for sub in range(1,subsegments):\n",
    "        sounds_export = sound[offset*1000+1000*(duration)*(sub-1):offset*1000+(duration)*(sub)*1000]\n",
    "        sounds_export.export(folder_path + \"/\" + audio_id + \"_\" + str(sub) + \".wav\", format=\"wav\")\n",
    "    \"\"\"\n",
    "\n",
    "\n",
    "\n",
    "\n",
    "    if already_read == 5:\n",
    "        break"
   ]
  },
  {
   "cell_type": "code",
   "execution_count": null,
   "metadata": {},
   "outputs": [],
   "source": []
  }
 ],
 "metadata": {
  "associatedRecipe": "compute_uUdj3BDZ",
  "creator": "asamant",
  "customFields": {},
  "kernelspec": {
   "display_name": "Python (env podcast_reader_ffmpeg)",
   "language": "python",
   "name": "py-dku-venv-podcast_reader_ffmpeg"
  },
  "language_info": {
   "codemirror_mode": {
    "name": "ipython",
    "version": 2
   },
   "file_extension": ".py",
   "mimetype": "text/x-python",
   "name": "python",
   "nbconvert_exporter": "python",
   "pygments_lexer": "ipython2",
   "version": "2.7.5"
  },
  "tags": [
   "recipe-editor"
  ]
 },
 "nbformat": 4,
 "nbformat_minor": 1
}
