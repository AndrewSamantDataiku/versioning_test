{
 "cells": [
  {
   "cell_type": "code",
   "execution_count": 1,
   "metadata": {},
   "outputs": [],
   "source": [
    "# -*- coding: utf-8 -*-\n",
    "import os\n",
    "\n",
    "import dataiku\n",
    "import pandas as pd, numpy as np\n",
    "from dataiku import pandasutils as pdu\n",
    "from dataiku.customrecipe import *\n",
    "from deepspeech import Model\n",
    "import scipy.io.wavfile as wav\n",
    "\n",
    "BEAM_WIDTH=500\n",
    "LM_WEIGHT =1.75\n",
    "WORD_COUNT_WEIGHT=1\n",
    "VALID_WORD_COUNT_WEIGHT=1\n",
    "\n",
    "#for k, v in get_recipe_config().items():\n",
    "#    locals()[k] = v\n",
    "\n",
    "# These constants are tied to the shape of the graph used (changing them changes\n",
    "# the geometry of the first layer), so make sure you use the same constants that\n",
    "# were used during training\n",
    "# Number of MFCC features to use\n",
    "N_FEATURES = 26\n",
    "# Size of the context window used for producing timesteps in the input vector\n",
    "N_CONTEXT = 9\n",
    "\n",
    "# Read recipe inputs\n",
    "audios = dataiku.Folder(\"RQJQMSTS\")\n",
    "weights = dataiku.Folder(\"EeiNHSFY\").get_path()\n",
    "\n",
    "model = os.path.join(weights, 'deepspeech-0.6.1-models', 'output_graph.pb')\n",
    "alphabet = os.path.join(weights, 'deepspeech-0.6.1-models', 'alphabet.txt')\n",
    "lm = os.path.join(weights, 'deepspeech-0.6.1-models', 'lm.binary')\n",
    "trie = os.path.join(weights, 'deepspeech-0.6.1-models', 'trie')\n",
    "\n",
    "#ds = Model(model, N_FEATURES, N_CONTEXT, alphabet, int(BEAM_WIDTH))\n",
    "ds = Model(model, int(BEAM_WIDTH))\n",
    "\n",
    "#ds.enableDecoderWithLM(alphabet, lm, trie, LM_WEIGHT,\n",
    "#                       WORD_COUNT_WEIGHT, VALID_WORD_COUNT_WEIGHT)\n",
    "ds.enableDecoderWithLM(lm, trie, LM_WEIGHT,WORD_COUNT_WEIGHT)\n",
    "\n",
    "\n",
    "df = pd.DataFrame(columns=['path', 'text'])\n",
    "idx = 0\n"
   ]
  },
  {
   "cell_type": "code",
   "execution_count": null,
   "metadata": {},
   "outputs": [],
   "source": [
    "with audios.get_download_stream(\"myfile\") as stream:\n",
    "    data = stream.readline()\n",
    "    print(\"First line of myfile is: {}\".format(data))"
   ]
  },
  {
   "cell_type": "code",
   "execution_count": null,
   "metadata": {},
   "outputs": [],
   "source": []
  },
  {
   "cell_type": "code",
   "execution_count": null,
   "metadata": {},
   "outputs": [],
   "source": [
    "\n",
    "for path in audios.list_paths_in_partition():\n",
    "    path = path[1:]\n",
    "    audio = os.path.join(audios.get_path(), path)\n",
    "    print(audio)\n",
    "\n",
    "    fs, audio = wav.read(audio)\n",
    "\n",
    "    text = ds.stt(audio)\n",
    "    df.loc[idx] = [path, text]\n",
    "    idx += 1\n",
    "\n",
    "#    if idx == 5:\n",
    "#        break\n",
    "\n",
    "\n",
    "# Write recipe outputs\n",
    "detected_texts = dataiku.Dataset(\"episodes_text\")\n",
    "detected_texts.write_with_schema(df)"
   ]
  },
  {
   "cell_type": "code",
   "execution_count": null,
   "metadata": {},
   "outputs": [],
   "source": []
  },
  {
   "cell_type": "code",
   "execution_count": null,
   "metadata": {},
   "outputs": [],
   "source": []
  }
 ],
 "metadata": {
  "associatedRecipe": "compute_episodes_text",
  "creator": "asamant",
  "customFields": {},
  "kernelspec": {
   "display_name": "Python (env podcast_reader)",
   "language": "python",
   "name": "py-dku-venv-podcast_reader"
  },
  "language_info": {
   "codemirror_mode": {
    "name": "ipython",
    "version": 3
   },
   "file_extension": ".py",
   "mimetype": "text/x-python",
   "name": "python",
   "nbconvert_exporter": "python",
   "pygments_lexer": "ipython3",
   "version": "3.6.8"
  },
  "tags": [
   "recipe-editor"
  ]
 },
 "nbformat": 4,
 "nbformat_minor": 1
}
