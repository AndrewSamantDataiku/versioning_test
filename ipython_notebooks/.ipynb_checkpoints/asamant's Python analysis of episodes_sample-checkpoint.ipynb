{
 "cells": [
  {
   "cell_type": "code",
   "execution_count": 1,
   "metadata": {},
   "outputs": [
    {
     "name": "stdout",
     "output_type": "stream",
     "text": [
      "Populating the interactive namespace from numpy and matplotlib\n"
     ]
    }
   ],
   "source": [
    "%pylab inline"
   ]
  },
  {
   "cell_type": "code",
   "execution_count": null,
   "metadata": {},
   "outputs": [],
   "source": [
    "# -*- coding: utf-8 -*-\n",
    "import dataiku\n",
    "import pandas as pd\n",
    "import numpy as np\n",
    "import requests \n",
    "import ffmpeg\n",
    "import ffprobe3\n",
    "import speech_recognition as sr\n",
    "from pydub import AudioSegment\n",
    "import sys"
   ]
  },
  {
   "cell_type": "code",
   "execution_count": null,
   "metadata": {},
   "outputs": [],
   "source": [
    "#downloads_dir = r\"episodes_wavs\""
   ]
  },
  {
   "cell_type": "code",
   "execution_count": null,
   "metadata": {},
   "outputs": [],
   "source": [
    "r = sr.Recognizer()"
   ]
  },
  {
   "cell_type": "code",
   "execution_count": null,
   "metadata": {},
   "outputs": [],
   "source": [
    "# Read recipe inputs\n",
    "episodes_sample = dataiku.Dataset(\"episodes_sample\")\n",
    "episodes_sample_df = episodes_sample.get_dataframe()\n",
    "\n",
    "\n",
    "# Compute recipe outputs from inputs\n",
    "# TODO: Replace this part by your actual code that computes the output, as a Pandas dataframe\n",
    "# NB: DSS also supports other kinds of APIs for reading and writing data. Please see doc.\n",
    "\n",
    "episodes_text_df = episodes_sample_df # For this sample code, simply copy input to output\n",
    "episodes_text_df[\"episode_text\"] = \"\"\n",
    "list_of_text = []\n",
    "\n",
    "already_read = 0\n",
    "for row in episodes_sample.iter_rows():\n",
    "    print(row)\n",
    "    # row is a dict-like object\n",
    "    print(str(already_read+1) +\": \" + row['audio_url'])\n",
    "    \n",
    "    url = row['audio_url']\n",
    "    file = requests.get(url)\n",
    "    open(downloads_dir + \"audio_file.mp3\",\"wb\").write(file.content)\n",
    "    sound = AudioSegment.from_mp3(downloads_dir + \"audio_file.mp3\")\n",
    "    sound.export(downloads_dir + \"audio_file.wav\", format=\"wav\")\n",
    "    \n",
    "    total_time = round(sound.duration_seconds)\n",
    "    offset = 0\n",
    "    duration = 60\n",
    "    subsegments = int(round((total_time-offset)/duration))\n",
    "    \n",
    "    s = \"\"\n",
    "    with sr.AudioFile(downloads_dir + \"audio_file.wav\") as source:\n",
    "        for subsegment in range(1,subsegments):\n",
    "            print(\"Subsegment \" + str(subsegment) + \" out of \" + str(subsegments))\n",
    "        \n",
    "            audio = r.record(source,offset=offset+(subsegment-1)*duration,duration=duration)  # read the entire audio file                  \n",
    "            try:\n",
    "                s= s + \" \" + r.recognize_google(audio)\n",
    "            except:\n",
    "                s = s + \" NA\"\n",
    "    print(s)      \n",
    "    list_of_text.append(s)\n",
    "\n",
    "    already_read += 1\n",
    "    if already_read == 5:\n",
    "        break\n",
    "\n",
    "episodes_text_df[\"episode_text\"] = pd.Series(list_of_text)        \n",
    "\n",
    "# Write recipe outputs\n",
    "episodes_text = dataiku.Dataset(\"episodes_text\")\n",
    "episodes_text.write_with_schema(episodes_text_df)"
   ]
  },
  {
   "cell_type": "code",
   "execution_count": 0,
   "metadata": {},
   "outputs": [],
   "source": []
  },
  {
   "cell_type": "code",
   "execution_count": 0,
   "metadata": {},
   "outputs": [],
   "source": []
  },
  {
   "cell_type": "code",
   "execution_count": 0,
   "metadata": {},
   "outputs": [],
   "source": []
  }
 ],
 "metadata": {
  "analyzedDataset": "episodes_sample",
  "creator": "asamant",
  "customFields": {},
  "kernelspec": {
   "display_name": "Python (env podcast_reader_ffmpeg)",
   "language": "python",
   "name": "py-dku-venv-podcast_reader_ffmpeg"
  },
  "language_info": {
   "codemirror_mode": {
    "name": "ipython",
    "version": 2
   },
   "file_extension": ".py",
   "mimetype": "text/x-python",
   "name": "python",
   "nbconvert_exporter": "python",
   "pygments_lexer": "ipython2",
   "version": "2.7.5"
  },
  "tags": []
 },
 "nbformat": 4,
 "nbformat_minor": 1
}
