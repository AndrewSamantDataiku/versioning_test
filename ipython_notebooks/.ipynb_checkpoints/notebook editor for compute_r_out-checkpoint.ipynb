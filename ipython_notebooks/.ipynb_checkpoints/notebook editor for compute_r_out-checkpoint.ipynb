{
 "cells": [
  {
   "cell_type": "code",
   "execution_count": 1,
   "metadata": {},
   "outputs": [
    {
     "name": "stderr",
     "output_type": "stream",
     "text": [
      "\n",
      "Attaching package: ‘dplyr’\n",
      "\n",
      "\n",
      "The following objects are masked from ‘package:stats’:\n",
      "\n",
      "    filter, lag\n",
      "\n",
      "\n",
      "The following objects are masked from ‘package:base’:\n",
      "\n",
      "    intersect, setdiff, setequal, union\n",
      "\n",
      "\n"
     ]
    },
    {
     "ename": "ERROR",
     "evalue": "Error in library(data.table): there is no package called ‘data.table’\n",
     "output_type": "error",
     "traceback": [
      "Error in library(data.table): there is no package called ‘data.table’\nTraceback:\n",
      "1. library(data.table)",
      "2. stop(txt, domain = NA)"
     ]
    }
   ],
   "source": [
    "library(dataiku)\n",
    "library(dplyr)\n",
    "library(data.table)\n"
   ]
  },
  {
   "cell_type": "code",
   "execution_count": null,
   "metadata": {},
   "outputs": [],
   "source": []
  }
 ],
 "metadata": {
  "associatedRecipe": "compute_r_out",
  "creator": "admin",
  "customFields": {},
  "kernelspec": {
   "display_name": "R (env opendata_r_env)",
   "language": "R",
   "name": "r-dku-venv-opendata_r_env"
  },
  "language_info": {
   "codemirror_mode": "r",
   "file_extension": ".r",
   "mimetype": "text/x-r-source",
   "name": "R",
   "pygments_lexer": "r",
   "version": "3.4.1"
  },
  "tags": [
   "recipe-editor"
  ]
 },
 "nbformat": 4,
 "nbformat_minor": 1
}
