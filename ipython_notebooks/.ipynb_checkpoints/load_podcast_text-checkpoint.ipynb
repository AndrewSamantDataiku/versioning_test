{
 "cells": [
  {
   "cell_type": "code",
   "execution_count": 0,
   "metadata": {},
   "outputs": [],
   "source": [
    "%pylab inline"
   ]
  },
  {
   "cell_type": "code",
   "execution_count": 1,
   "metadata": {},
   "outputs": [
    {
     "name": "stderr",
     "output_type": "stream",
     "text": [
      "/home/dataiku/dss/code-envs/python/podcast_reader/lib/python3.6/site-packages/pydub/utils.py:165: RuntimeWarning: Couldn't find ffmpeg or avconv - defaulting to ffmpeg, but may not work\n",
      "  warn(\"Couldn't find ffmpeg or avconv - defaulting to ffmpeg, but may not work\", RuntimeWarning)\n"
     ]
    }
   ],
   "source": [
    "import dataiku\n",
    "import pandas as pd\n",
    "import numpy as np\n",
    "import requests \n",
    "import ffmpeg\n",
    "import speech_recognition as sr\n",
    "from pydub import AudioSegment\n",
    "import sys\n"
   ]
  },
  {
   "cell_type": "code",
   "execution_count": 0,
   "metadata": {},
   "outputs": [],
   "source": [
    "# Read the dataset row by row, and operate on each row\n",
    "# Reading row by row can operate on very large datasets with little memory.\n",
    "#\n",
    "# First, obtain a handle on the dataset\n",
    "dataset_episodes_sample = dataiku.Dataset(\"episodes_sample\")"
   ]
  },
  {
   "cell_type": "code",
   "execution_count": 0,
   "metadata": {},
   "outputs": [],
   "source": [
    "# Then perform the actual read\n",
    "already_read = 0\n",
    "for row in dataset_episodes_sample.iter_rows():\n",
    "    # row is a dict-like object\n",
    "    print row[\"replace_by_a_real_column_name\"]\n",
    "    already_read += 1\n",
    "    if already_read == 10:\n",
    "        break"
   ]
  },
  {
   "cell_type": "code",
   "execution_count": 0,
   "metadata": {},
   "outputs": [],
   "source": []
  }
 ],
 "metadata": {
  "analyzedDataset": "episodes_sample",
  "creator": "asamant",
  "customFields": {},
  "kernelspec": {
   "display_name": "Python (env podcast_reader)",
   "language": "python",
   "name": "py-dku-venv-podcast_reader"
  },
  "language_info": {
   "codemirror_mode": {
    "name": "ipython",
    "version": 3
   },
   "file_extension": ".py",
   "mimetype": "text/x-python",
   "name": "python",
   "nbconvert_exporter": "python",
   "pygments_lexer": "ipython3",
   "version": "3.6.8"
  },
  "tags": []
 },
 "nbformat": 4,
 "nbformat_minor": 1
}
