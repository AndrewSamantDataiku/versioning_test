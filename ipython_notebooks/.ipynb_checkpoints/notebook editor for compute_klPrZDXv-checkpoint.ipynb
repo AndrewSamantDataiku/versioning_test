{
 "cells": [
  {
   "cell_type": "code",
   "execution_count": 0,
   "metadata": {},
   "outputs": [],
   "source": [
    "# Load Environment\n",
    "\n",
    "import dataiku\n",
    "import pandas as pd\n",
    "import numpy as np\n",
    "import ffmpeg\n",
    "import subprocess\n",
    "from pydub import AudioSegment\n",
    "import os\n",
    "import scipy.io.wavfile as wav\n",
    "\n",
    "\n",
    "mp3_folder = dataiku.Folder(\"mp3_files_local\")\n",
    "wav_folder_path = mp3_folder.get_path()\n",
    "wav_folder = dataiku.Folder(\"wav_files_local\")\n",
    "wav_folder_path = wav_folder.get_path()\n",
    "\n",
    "already_read = 0\n",
    "\n",
    "for mp3 in mp3_folder.list_paths_in_partition():\n",
    "\n",
    "    audio_id = mp3[:-4]\n",
    "\n",
    "\n",
    "    subprocess.call([\"/opt/ffmpeg/bin/ffmpeg\",\"-y\",\n",
    "                             \"-i\",mp3_folder.get_path() + \"/\" + audio_id + \".mp3\",\n",
    "                             \"-r\",\"16000\",\n",
    "                             \"-ac\",\"1\",\n",
    "                             \"-segment_time\",\"00:00:50\",\n",
    "                             \"-f\",\"segment\",\n",
    "                             wav_folder_path + \"/\" + audio_id+ \"_part_%03d.wav\"])"
   ]
  }
 ],
 "metadata": {
  "associatedRecipe": "compute_klPrZDXv",
  "creator": "admin",
  "customFields": {},
  "kernelspec": {
   "display_name": "Python 2",
   "language": "python",
   "name": "python2"
  },
  "language_info": {
   "codemirror_mode": {
    "name": "ipython",
    "version": 2
   },
   "file_extension": ".py",
   "mimetype": "text/x-python",
   "name": "python",
   "nbconvert_exporter": "python",
   "pygments_lexer": "ipython2",
   "version": "2.7.18"
  },
  "tags": [
   "recipe-editor"
  ]
 },
 "nbformat": 4,
 "nbformat_minor": 1
}
