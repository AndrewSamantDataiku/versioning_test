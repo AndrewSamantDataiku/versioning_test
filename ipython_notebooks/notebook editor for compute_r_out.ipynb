{
  "metadata": {
    "creator": "admin",
    "customFields": {},
    "kernelspec": {
      "display_name": "R (env opendata_r_env)",
      "language": "R",
      "name": "r-dku-venv-opendata_r_env"
    },
    "language_info": {
      "codemirror_mode": "r",
      "file_extension": ".r",
      "mimetype": "text/x-r-source",
      "name": "R",
      "pygments_lexer": "r",
      "version": "3.4.1"
    },
    "tags": [
      "deleted-recipe-editor"
    ]
  },
  "nbformat": 4,
  "nbformat_minor": 1,
  "cells": [
    {
      "execution_count": 1,
      "cell_type": "code",
      "metadata": {},
      "source": [
        "library(dataiku)\n",
        "library(dplyr)\n",
        "library(data.table)\n"
      ],
      "outputs": [
        {
          "name": "stderr",
          "output_type": "stream",
          "text": [
            "\n",
            "Attaching package: ‘dplyr’\n",
            "\n",
            "\n",
            "The following objects are masked from ‘package:stats’:\n",
            "\n",
            "    filter, lag\n",
            "\n",
            "\n",
            "The following objects are masked from ‘package:base’:\n",
            "\n",
            "    intersect, setdiff, setequal, union\n",
            "\n",
            "\n",
            "\n",
            "Attaching package: ‘data.table’\n",
            "\n",
            "\n",
            "The following objects are masked from ‘package:dplyr’:\n",
            "\n",
            "    between, first, last\n",
            "\n",
            "\n"
          ]
        }
      ]
    },
    {
      "execution_count": 2,
      "cell_type": "code",
      "metadata": {},
      "source": [
        "\n",
        "oneway_data \u003c- function(x,prem,loss,pred,type \u003d \u002795%\u0027, n\u003d100){\n",
        "  bs \u003c- function(prem,loss,n\u003dn){\n",
        "    result \u003d vector(\"numeric\",n)\n",
        "    data \u003c- data.frame(prem,loss)\n",
        "    for (i in 1:n){\n",
        "      data1 \u003c- sample_frac(data, 1.0,replace\u003dT)\n",
        "      result[i] \u003c- sum(data1$loss)/sum(data1$prem)\n",
        "    }\n",
        "    if (type \u003d\u003d \u002795%\u0027){\n",
        "      result \u003c- sort(result)\n",
        "      mark \u003d floor(n*0.025)+1\n",
        "      return((result[n-mark+1]-result[mark])/2)\n",
        "    }else if (type \u003d\u003d \u0027sd\u0027)\n",
        "    return(sd(result))\n",
        "    else return(0)\n",
        "  }\n",
        "  d \u003c- data.frame(x \u003d x, prem, loss, pred)\n",
        "  t \u003c- d %\u003e% group_by(x) %\u003e%\n",
        "    summarise(prem \u003dsum(prem),\n",
        "              actual_lr \u003d sum(loss)/sum(prem),\n",
        "              pred_lr \u003d sum(pred)/sum(prem)) %\u003e% ungroup()\n",
        "  t$sd \u003c- setDT(d)[,bs(prem,loss,n),x]$V1\n",
        "  ##ob pred to actual\n",
        "  ob \u003c- sum(t$prem*t$actual_lr) / sum(t$prem*t$pred_lr)\n",
        "  t$pred_lr \u003c- t$pred_lr * ob\n",
        "  ##ob actual to 1\n",
        "  ob \u003c- sum(t$prem) / sum(t$prem*t$actual_lr)\n",
        "  t$pred_lr \u003c- t$pred_lr * ob\n",
        "  t$actual_lr \u003c- t$actual_lr * ob\n",
        "  t$sd \u003c- t$sd * ob\n",
        "  return(t)\n",
        "}\n",
        "\n"
      ],
      "outputs": []
    },
    {
      "execution_count": 3,
      "cell_type": "code",
      "metadata": {},
      "source": [
        "x \u003c- c(21000, 23400, 26800)\n",
        "prem \u003c- c(0.1,0.2,0.3)\n",
        "loss \u003c- c(1000, 300, 3000)\n",
        "pred \u003c- c(700, 400, 800)"
      ],
      "outputs": []
    },
    {
      "execution_count": 5,
      "cell_type": "code",
      "metadata": {},
      "source": [
        "oneway_data(x,prem,loss,pred)"
      ],
      "outputs": [
        {
          "name": "stderr",
          "output_type": "stream",
          "text": [
            "`summarise()` ungrouping output (override with `.groups` argument)\n",
            "\n"
          ]
        },
        {
          "data": {
            "text/html": [
              "\u003ctable\u003e\n",
              "\u003ccaption\u003eA tibble: 3 × 5\u003c/caption\u003e\n",
              "\u003cthead\u003e\n",
              "\t\u003ctr\u003e\u003cth scope\u003dcol\u003ex\u003c/th\u003e\u003cth scope\u003dcol\u003eprem\u003c/th\u003e\u003cth scope\u003dcol\u003eactual_lr\u003c/th\u003e\u003cth scope\u003dcol\u003epred_lr\u003c/th\u003e\u003cth scope\u003dcol\u003esd\u003c/th\u003e\u003c/tr\u003e\n",
              "\t\u003ctr\u003e\u003cth scope\u003dcol\u003e\u0026lt;dbl\u0026gt;\u003c/th\u003e\u003cth scope\u003dcol\u003e\u0026lt;dbl\u0026gt;\u003c/th\u003e\u003cth scope\u003dcol\u003e\u0026lt;dbl\u0026gt;\u003c/th\u003e\u003cth scope\u003dcol\u003e\u0026lt;dbl\u0026gt;\u003c/th\u003e\u003cth scope\u003dcol\u003e\u0026lt;dbl\u0026gt;\u003c/th\u003e\u003c/tr\u003e\n",
              "\u003c/thead\u003e\n",
              "\u003ctbody\u003e\n",
              "\t\u003ctr\u003e\u003ctd\u003e21000\u003c/td\u003e\u003ctd\u003e0.1\u003c/td\u003e\u003ctd\u003e1.3953488\u003c/td\u003e\u003ctd\u003e2.2105263\u003c/td\u003e\u003ctd\u003e0\u003c/td\u003e\u003c/tr\u003e\n",
              "\t\u003ctr\u003e\u003ctd\u003e23400\u003c/td\u003e\u003ctd\u003e0.2\u003c/td\u003e\u003ctd\u003e0.2093023\u003c/td\u003e\u003ctd\u003e0.6315789\u003c/td\u003e\u003ctd\u003e0\u003c/td\u003e\u003c/tr\u003e\n",
              "\t\u003ctr\u003e\u003ctd\u003e26800\u003c/td\u003e\u003ctd\u003e0.3\u003c/td\u003e\u003ctd\u003e1.3953488\u003c/td\u003e\u003ctd\u003e0.8421053\u003c/td\u003e\u003ctd\u003e0\u003c/td\u003e\u003c/tr\u003e\n",
              "\u003c/tbody\u003e\n",
              "\u003c/table\u003e\n"
            ],
            "text/latex": [
              "A tibble: 3 × 5\n",
              "\\begin{tabular}{lllll}\n",
              " x \u0026 prem \u0026 actual\\_lr \u0026 pred\\_lr \u0026 sd\\\\\n",
              " \u003cdbl\u003e \u0026 \u003cdbl\u003e \u0026 \u003cdbl\u003e \u0026 \u003cdbl\u003e \u0026 \u003cdbl\u003e\\\\\n",
              "\\hline\n",
              "\t 21000 \u0026 0.1 \u0026 1.3953488 \u0026 2.2105263 \u0026 0\\\\\n",
              "\t 23400 \u0026 0.2 \u0026 0.2093023 \u0026 0.6315789 \u0026 0\\\\\n",
              "\t 26800 \u0026 0.3 \u0026 1.3953488 \u0026 0.8421053 \u0026 0\\\\\n",
              "\\end{tabular}\n"
            ],
            "text/markdown": [
              "\n",
              "A tibble: 3 × 5\n",
              "\n",
              "| x \u0026lt;dbl\u0026gt; | prem \u0026lt;dbl\u0026gt; | actual_lr \u0026lt;dbl\u0026gt; | pred_lr \u0026lt;dbl\u0026gt; | sd \u0026lt;dbl\u0026gt; |\n",
              "|---|---|---|---|---|\n",
              "| 21000 | 0.1 | 1.3953488 | 2.2105263 | 0 |\n",
              "| 23400 | 0.2 | 0.2093023 | 0.6315789 | 0 |\n",
              "| 26800 | 0.3 | 1.3953488 | 0.8421053 | 0 |\n",
              "\n"
            ],
            "text/plain": [
              "  x     prem actual_lr pred_lr   sd\n",
              "1 21000 0.1  1.3953488 2.2105263 0 \n",
              "2 23400 0.2  0.2093023 0.6315789 0 \n",
              "3 26800 0.3  1.3953488 0.8421053 0 "
            ]
          },
          "metadata": {},
          "output_type": "display_data"
        }
      ]
    },
    {
      "execution_count": 6,
      "cell_type": "code",
      "metadata": {},
      "source": [
        "test_df \u003c- data.frame(x,prem,loss,pred)\n",
        "\n",
        "oneway_data(test_df$x,test_df$prem,test_df$loss,test_df$pred)"
      ],
      "outputs": [
        {
          "name": "stderr",
          "output_type": "stream",
          "text": [
            "`summarise()` ungrouping output (override with `.groups` argument)\n",
            "\n"
          ]
        },
        {
          "data": {
            "text/html": [
              "\u003ctable\u003e\n",
              "\u003ccaption\u003eA tibble: 3 × 5\u003c/caption\u003e\n",
              "\u003cthead\u003e\n",
              "\t\u003ctr\u003e\u003cth scope\u003dcol\u003ex\u003c/th\u003e\u003cth scope\u003dcol\u003eprem\u003c/th\u003e\u003cth scope\u003dcol\u003eactual_lr\u003c/th\u003e\u003cth scope\u003dcol\u003epred_lr\u003c/th\u003e\u003cth scope\u003dcol\u003esd\u003c/th\u003e\u003c/tr\u003e\n",
              "\t\u003ctr\u003e\u003cth scope\u003dcol\u003e\u0026lt;dbl\u0026gt;\u003c/th\u003e\u003cth scope\u003dcol\u003e\u0026lt;dbl\u0026gt;\u003c/th\u003e\u003cth scope\u003dcol\u003e\u0026lt;dbl\u0026gt;\u003c/th\u003e\u003cth scope\u003dcol\u003e\u0026lt;dbl\u0026gt;\u003c/th\u003e\u003cth scope\u003dcol\u003e\u0026lt;dbl\u0026gt;\u003c/th\u003e\u003c/tr\u003e\n",
              "\u003c/thead\u003e\n",
              "\u003ctbody\u003e\n",
              "\t\u003ctr\u003e\u003ctd\u003e21000\u003c/td\u003e\u003ctd\u003e0.1\u003c/td\u003e\u003ctd\u003e1.3953488\u003c/td\u003e\u003ctd\u003e2.2105263\u003c/td\u003e\u003ctd\u003e0\u003c/td\u003e\u003c/tr\u003e\n",
              "\t\u003ctr\u003e\u003ctd\u003e23400\u003c/td\u003e\u003ctd\u003e0.2\u003c/td\u003e\u003ctd\u003e0.2093023\u003c/td\u003e\u003ctd\u003e0.6315789\u003c/td\u003e\u003ctd\u003e0\u003c/td\u003e\u003c/tr\u003e\n",
              "\t\u003ctr\u003e\u003ctd\u003e26800\u003c/td\u003e\u003ctd\u003e0.3\u003c/td\u003e\u003ctd\u003e1.3953488\u003c/td\u003e\u003ctd\u003e0.8421053\u003c/td\u003e\u003ctd\u003e0\u003c/td\u003e\u003c/tr\u003e\n",
              "\u003c/tbody\u003e\n",
              "\u003c/table\u003e\n"
            ],
            "text/latex": [
              "A tibble: 3 × 5\n",
              "\\begin{tabular}{lllll}\n",
              " x \u0026 prem \u0026 actual\\_lr \u0026 pred\\_lr \u0026 sd\\\\\n",
              " \u003cdbl\u003e \u0026 \u003cdbl\u003e \u0026 \u003cdbl\u003e \u0026 \u003cdbl\u003e \u0026 \u003cdbl\u003e\\\\\n",
              "\\hline\n",
              "\t 21000 \u0026 0.1 \u0026 1.3953488 \u0026 2.2105263 \u0026 0\\\\\n",
              "\t 23400 \u0026 0.2 \u0026 0.2093023 \u0026 0.6315789 \u0026 0\\\\\n",
              "\t 26800 \u0026 0.3 \u0026 1.3953488 \u0026 0.8421053 \u0026 0\\\\\n",
              "\\end{tabular}\n"
            ],
            "text/markdown": [
              "\n",
              "A tibble: 3 × 5\n",
              "\n",
              "| x \u0026lt;dbl\u0026gt; | prem \u0026lt;dbl\u0026gt; | actual_lr \u0026lt;dbl\u0026gt; | pred_lr \u0026lt;dbl\u0026gt; | sd \u0026lt;dbl\u0026gt; |\n",
              "|---|---|---|---|---|\n",
              "| 21000 | 0.1 | 1.3953488 | 2.2105263 | 0 |\n",
              "| 23400 | 0.2 | 0.2093023 | 0.6315789 | 0 |\n",
              "| 26800 | 0.3 | 1.3953488 | 0.8421053 | 0 |\n",
              "\n"
            ],
            "text/plain": [
              "  x     prem actual_lr pred_lr   sd\n",
              "1 21000 0.1  1.3953488 2.2105263 0 \n",
              "2 23400 0.2  0.2093023 0.6315789 0 \n",
              "3 26800 0.3  1.3953488 0.8421053 0 "
            ]
          },
          "metadata": {},
          "output_type": "display_data"
        }
      ]
    },
    {
      "cell_type": "code",
      "metadata": {},
      "source": [],
      "outputs": []
    }
  ]
}