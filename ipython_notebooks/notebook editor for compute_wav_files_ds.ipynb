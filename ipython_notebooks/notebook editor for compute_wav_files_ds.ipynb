{
  "metadata": {
    "kernelspec": {
      "display_name": "Python 2",
      "name": "python2",
      "language": "python"
    },
    "language_info": {
      "mimetype": "text/x-python",
      "nbconvert_exporter": "python",
      "version": "2.7.18",
      "name": "python",
      "pygments_lexer": "ipython2",
      "file_extension": ".py",
      "codemirror_mode": {
        "version": 2,
        "name": "ipython"
      }
    },
    "creator": "admin",
    "associatedRecipe": "compute_wav_files_ds",
    "createdOn": 1615847026700,
    "tags": [
      "recipe-editor"
    ],
    "modifiedBy": "admin",
    "customFields": {}
  },
  "nbformat": 4,
  "nbformat_minor": 1,
  "cells": [
    {
      "execution_count": 14,
      "cell_type": "code",
      "metadata": {},
      "source": [
        "# -*- coding: utf-8 -*-\nimport dataiku\nimport pandas as pd, numpy as np\nfrom dataiku import pandasutils as pdu\nimport os\n\n# Read recipe inputs\nwav_files_local \u003d dataiku.Folder(\"klPrZDXv\")\n\n"
      ],
      "outputs": []
    },
    {
      "execution_count": 15,
      "cell_type": "code",
      "metadata": {},
      "source": [
        "wav_files \u003d wav_files_local.list_paths_in_partition()"
      ],
      "outputs": []
    },
    {
      "execution_count": 16,
      "cell_type": "code",
      "metadata": {},
      "source": [
        "folder_path \u003d wav_files_local.get_path()"
      ],
      "outputs": []
    },
    {
      "execution_count": 17,
      "cell_type": "code",
      "metadata": {},
      "source": [
        "wav_paths \u003d [os.path.join([folder_path,f[1:]]) for f in wav_files]\nwav_files \u003d [f[1:-4] for f in wav_files]\n\n\n\n\nwav_files_ds_df \u003d pd.DataFrame({\"file\":wav_files,\"path\":wav_paths})\n\n\n# Write recipe outputs\nwav_files_ds \u003d dataiku.Dataset(\"wav_files_ds\")\nwav_files_ds.write_with_schema(wav_files_ds_df)"
      ],
      "outputs": [
        {
          "output_type": "stream",
          "name": "stdout",
          "text": "2631 rows successfully written (eIcZ4OoBlW)\n"
        }
      ]
    },
    {
      "execution_count": 0,
      "cell_type": "code",
      "metadata": {},
      "source": [
        ""
      ],
      "outputs": []
    }
  ]
}