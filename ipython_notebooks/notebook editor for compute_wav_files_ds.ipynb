{
  "nbformat": 4,
  "nbformat_minor": 0,
  "metadata": {
    "kernelspec": {
      "display_name": "Python 2",
      "language": "python",
      "name": "python2"
    },
    "associatedRecipe": "compute_wav_files_ds",
    "creator": "admin",
    "createdOn": 1615847026700,
    "tags": [
      "recipe-editor"
    ],
    "customFields": {}
  },
  "cells": [
    {
      "cell_type": "code",
      "metadata": {},
      "outputs": [],
      "execution_count": 0,
      "source": [
        "# -*- coding: utf-8 -*-\n",
        "import dataiku\n",
        "import pandas as pd, numpy as np\n",
        "from dataiku import pandasutils as pdu\n",
        "\n",
        "# Read recipe inputs\n",
        "wav_files_local \u003d dataiku.Folder(\"klPrZDXv\")\n",
        "wav_files_local_info \u003d wav_files_local.get_info()\n",
        "\n",
        "\n",
        "# Compute recipe outputs\n",
        "# TODO: Write here your actual code that computes the outputs\n",
        "# NB: DSS supports several kinds of APIs for reading and writing data. Please see doc.\n",
        "\n",
        "wav_files_ds_df \u003d ... # Compute a Pandas dataframe to write into wav_files_ds\n",
        "\n",
        "\n",
        "# Write recipe outputs\n",
        "wav_files_ds \u003d dataiku.Dataset(\"wav_files_ds\")\n",
        "wav_files_ds.write_with_schema(wav_files_ds_df)"
      ]
    }
  ]
}