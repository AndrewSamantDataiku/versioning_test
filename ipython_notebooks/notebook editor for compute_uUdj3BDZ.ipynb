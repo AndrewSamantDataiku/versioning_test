{
  "metadata": {
    "creator": "asamant",
    "customFields": {},
    "kernelspec": {
      "display_name": "Python 2",
      "language": "python",
      "name": ""
    },
    "language_info": {
      "codemirror_mode": {
        "name": "ipython",
        "version": 2
      },
      "file_extension": ".py",
      "mimetype": "text/x-python",
      "name": "python",
      "nbconvert_exporter": "python",
      "pygments_lexer": "ipython2",
      "version": "2.7.5"
    },
    "tags": [
      "deleted-recipe-editor"
    ]
  },
  "nbformat": 4,
  "nbformat_minor": 1,
  "cells": [
    {
      "execution_count": 16,
      "cell_type": "code",
      "metadata": {},
      "source": [
        "# Load Environment\n",
        "\n",
        "import matplotlib\n",
        "import dataiku\n",
        "import pandas as pd\n",
        "import numpy as np\n",
        "import requests\n",
        "import ffmpeg\n",
        "import speech_recognition as sr\n",
        "import subprocess\n",
        "from pydub import AudioSegment\n",
        "import os\n",
        "import time\n",
        "\n",
        "max_episodes \u003d 1\n",
        "\n",
        "r \u003d sr.Recognizer()\n",
        "\n",
        "episodes_sample \u003d dataiku.Dataset(\"episodes_sample\")\n",
        "episodes_sample_df \u003d episodes_sample.get_dataframe()\n",
        "\n",
        "episode_wavs_folder \u003d dataiku.Folder(\"episodes_wavs\")\n",
        "episode_mp3_folder \u003d dataiku.Folder(\"episodes_mp3\")\n",
        "#folder_path \u003d episode_wavs_folder.get_path()\n",
        "#mp3_folder_path \u003d episode_mp3_folder.get_path()\n",
        "\n",
        "already_read \u003d 0\n"
      ],
      "outputs": []
    },
    {
      "cell_type": "code",
      "metadata": {},
      "source": [],
      "outputs": []
    },
    {
      "execution_count": 18,
      "cell_type": "code",
      "metadata": {},
      "source": [
        "\n",
        "for row in episodes_sample.iter_rows():\n",
        "\n",
        "    already_read +\u003d 1\n",
        "    audio_id \u003d row[\u0027id\u0027] + \".mp3\"\n",
        "    audio_id \u003d os.path.normpath(audio_id)\n",
        "    url \u003d row[\u0027audio_url\u0027]\n",
        "    print(\"Accessing URL: \" + url)\n",
        "    file_in \u003d requests.get(url)\n",
        "    print(audio_id)\n",
        "    #episode_mp3_folder.upload_stream(audio_id,file.content)\n",
        "    #with episode_mp3_folder.get_writer(audio_id) as w:\n",
        "    #    w.write(file_in.content)\n",
        "\n",
        "    open(episode_mp3_folder.get_path() + \"/\" + audio_id,\"wb\").write(file.content)\n",
        "    \"\"\"\n",
        "        try:\n",
        "        subprocess.call([\"/opt/ffmpeg/bin/ffmpeg\",\"-y\",\n",
        "            #             \"-c\",\"copy\",\n",
        "                         \"-i\",mp3_folder_path + \"/\" + audio_id + \".mp3\",\n",
        "                         \"-r\",\"16000\",\n",
        "                         \"-ac\",\"1\",\n",
        "                         \"-map\",\"0\",\n",
        "                         \"-segment_time\",\"00:00:50\",\n",
        "                         \"-f\",\"segment\",\n",
        "                         folder_path + \"/\" + audio_id+ \"%03d.wav\"])\n",
        "\n",
        "    except:\n",
        "        print(\"Failed on: \" + url)\n",
        "    \"\"\"\n",
        "    \n",
        "    AudioSegment.ffmpeg \u003d \"/opt/ffmpeg/bin/ffmpeg.e\"\n",
        "    sound \u003d AudioSegment.from_mp3(episode_mp3_folder.get_path() + \"/\" + audio_id)\n",
        "\n",
        "\n",
        "\n",
        "    total_time \u003d round(sound.duration_seconds)\n",
        "    offset \u003d 0\n",
        "    duration \u003d 55\n",
        "    subsegments \u003d int(round((total_time-offset)/duration))\n",
        "\n",
        "    for sub in range(1,subsegments):\n",
        "        sounds_export \u003d sound[offset*1000+1000*(duration)*(sub-1):offset*1000+(duration)*(sub)*1000]\n",
        "        sounds_export.export(folder_path + \"/\" + audio_id + \"_\" + str(sub) + \".wav\", format\u003d\"wav\")\n",
        "\n",
        "\n",
        "\n",
        "\n",
        "\n",
        "\n",
        "    if already_read \u003d\u003d max_episodes:\n",
        "        break"
      ],
      "outputs": [
        {
          "name": "stdout",
          "output_type": "stream",
          "text": [
            "Accessing URL: http://traffic.libsyn.com/tothejourney/ttj-138.mp3\n",
            "01154863-5892-3bdb-bd55-969689561906.mp3\n"
          ]
        },
        {
          "ename": "OSError",
          "evalue": "[Errno 13] Permission denied",
          "output_type": "error",
          "traceback": [
            "\u001b[0;31m\u001b[0m",
            "\u001b[0;31mOSError\u001b[0mTraceback (most recent call last)",
            "\u001b[0;32m\u003cipython-input-18-04c2bb0addc7\u003e\u001b[0m in \u001b[0;36m\u003cmodule\u003e\u001b[0;34m()\u001b[0m\n\u001b[1;32m     33\u001b[0m     \u001b[0;31m#print(s)\u001b[0m\u001b[0;34m\u001b[0m\u001b[0;34m\u001b[0m\u001b[0m\n\u001b[1;32m     34\u001b[0m     \u001b[0mAudioSegment\u001b[0m\u001b[0;34m.\u001b[0m\u001b[0mffmpeg\u001b[0m \u001b[0;34m\u003d\u001b[0m \u001b[0;34m\"/opt/ffmpeg/bin/ffmpeg\"\u001b[0m\u001b[0;34m\u001b[0m\u001b[0m\n\u001b[0;32m---\u003e 35\u001b[0;31m     \u001b[0msound\u001b[0m \u001b[0;34m\u003d\u001b[0m \u001b[0mAudioSegment\u001b[0m\u001b[0;34m.\u001b[0m\u001b[0mfrom_mp3\u001b[0m\u001b[0;34m(\u001b[0m\u001b[0mepisode_mp3_folder\u001b[0m\u001b[0;34m.\u001b[0m\u001b[0mget_path\u001b[0m\u001b[0;34m(\u001b[0m\u001b[0;34m)\u001b[0m \u001b[0;34m+\u001b[0m \u001b[0;34m\"/\"\u001b[0m \u001b[0;34m+\u001b[0m \u001b[0maudio_id\u001b[0m\u001b[0;34m)\u001b[0m\u001b[0;34m\u001b[0m\u001b[0m\n\u001b[0m\u001b[1;32m     36\u001b[0m \u001b[0;31m#    with episode_mp3_folder.get_download_stream(audio_id) as stream:\u001b[0m\u001b[0;34m\u001b[0m\u001b[0;34m\u001b[0m\u001b[0m\n\u001b[1;32m     37\u001b[0m \u001b[0;31m#        sound \u003d AudioSegment.from_mp3(stream)#.set_channels(1).set_frame_rate(16000)\u001b[0m\u001b[0;34m\u001b[0m\u001b[0;34m\u001b[0m\u001b[0m\n",
            "\u001b[0;32m/home/dataiku/dss/code-envs/python/podcast_reader_ffmpeg/lib/python2.7/site-packages/pydub/audio_segment.pyc\u001b[0m in \u001b[0;36mfrom_mp3\u001b[0;34m(cls, file, parameters)\u001b[0m\n\u001b[1;32m    714\u001b[0m     \u001b[0;34m@\u001b[0m\u001b[0mclassmethod\u001b[0m\u001b[0;34m\u001b[0m\u001b[0m\n\u001b[1;32m    715\u001b[0m     \u001b[0;32mdef\u001b[0m \u001b[0mfrom_mp3\u001b[0m\u001b[0;34m(\u001b[0m\u001b[0mcls\u001b[0m\u001b[0;34m,\u001b[0m \u001b[0mfile\u001b[0m\u001b[0;34m,\u001b[0m \u001b[0mparameters\u001b[0m\u001b[0;34m\u003d\u001b[0m\u001b[0mNone\u001b[0m\u001b[0;34m)\u001b[0m\u001b[0;34m:\u001b[0m\u001b[0;34m\u001b[0m\u001b[0m\n\u001b[0;32m--\u003e 716\u001b[0;31m         \u001b[0;32mreturn\u001b[0m \u001b[0mcls\u001b[0m\u001b[0;34m.\u001b[0m\u001b[0mfrom_file\u001b[0m\u001b[0;34m(\u001b[0m\u001b[0mfile\u001b[0m\u001b[0;34m,\u001b[0m \u001b[0;34m\u0027mp3\u0027\u001b[0m\u001b[0;34m,\u001b[0m \u001b[0mparameters\u001b[0m\u001b[0;34m\u003d\u001b[0m\u001b[0mparameters\u001b[0m\u001b[0;34m)\u001b[0m\u001b[0;34m\u001b[0m\u001b[0m\n\u001b[0m\u001b[1;32m    717\u001b[0m \u001b[0;34m\u001b[0m\u001b[0m\n\u001b[1;32m    718\u001b[0m     \u001b[0;34m@\u001b[0m\u001b[0mclassmethod\u001b[0m\u001b[0;34m\u001b[0m\u001b[0m\n",
            "\u001b[0;32m/home/dataiku/dss/code-envs/python/podcast_reader_ffmpeg/lib/python2.7/site-packages/pydub/audio_segment.pyc\u001b[0m in \u001b[0;36mfrom_file\u001b[0;34m(cls, file, format, codec, parameters, **kwargs)\u001b[0m\n\u001b[1;32m    663\u001b[0m             \u001b[0mstdin_data\u001b[0m \u001b[0;34m\u003d\u001b[0m \u001b[0mfile\u001b[0m\u001b[0;34m.\u001b[0m\u001b[0mread\u001b[0m\u001b[0;34m(\u001b[0m\u001b[0;34m)\u001b[0m\u001b[0;34m\u001b[0m\u001b[0m\n\u001b[1;32m    664\u001b[0m \u001b[0;34m\u001b[0m\u001b[0m\n\u001b[0;32m--\u003e 665\u001b[0;31m         \u001b[0minfo\u001b[0m \u001b[0;34m\u003d\u001b[0m \u001b[0mmediainfo_json\u001b[0m\u001b[0;34m(\u001b[0m\u001b[0morig_file\u001b[0m\u001b[0;34m)\u001b[0m\u001b[0;34m\u001b[0m\u001b[0m\n\u001b[0m\u001b[1;32m    666\u001b[0m         \u001b[0;32mif\u001b[0m \u001b[0minfo\u001b[0m\u001b[0;34m:\u001b[0m\u001b[0;34m\u001b[0m\u001b[0m\n\u001b[1;32m    667\u001b[0m             audio_streams \u003d [x for x in info[\u0027streams\u0027]\n",
            "\u001b[0;32m/home/dataiku/dss/code-envs/python/podcast_reader_ffmpeg/lib/python2.7/site-packages/pydub/utils.pyc\u001b[0m in \u001b[0;36mmediainfo_json\u001b[0;34m(filepath)\u001b[0m\n\u001b[1;32m    261\u001b[0m \u001b[0;34m\u001b[0m\u001b[0m\n\u001b[1;32m    262\u001b[0m     \u001b[0mcommand\u001b[0m \u001b[0;34m\u003d\u001b[0m \u001b[0;34m[\u001b[0m\u001b[0mprober\u001b[0m\u001b[0;34m,\u001b[0m \u001b[0;34m\u0027-of\u0027\u001b[0m\u001b[0;34m,\u001b[0m \u001b[0;34m\u0027json\u0027\u001b[0m\u001b[0;34m]\u001b[0m \u001b[0;34m+\u001b[0m \u001b[0mcommand_args\u001b[0m\u001b[0;34m\u001b[0m\u001b[0m\n\u001b[0;32m--\u003e 263\u001b[0;31m     \u001b[0mres\u001b[0m \u001b[0;34m\u003d\u001b[0m \u001b[0mPopen\u001b[0m\u001b[0;34m(\u001b[0m\u001b[0mcommand\u001b[0m\u001b[0;34m,\u001b[0m \u001b[0mstdin\u001b[0m\u001b[0;34m\u003d\u001b[0m\u001b[0mstdin_parameter\u001b[0m\u001b[0;34m,\u001b[0m \u001b[0mstdout\u001b[0m\u001b[0;34m\u003d\u001b[0m\u001b[0mPIPE\u001b[0m\u001b[0;34m,\u001b[0m \u001b[0mstderr\u001b[0m\u001b[0;34m\u003d\u001b[0m\u001b[0mPIPE\u001b[0m\u001b[0;34m)\u001b[0m\u001b[0;34m\u001b[0m\u001b[0m\n\u001b[0m\u001b[1;32m    264\u001b[0m     \u001b[0moutput\u001b[0m\u001b[0;34m,\u001b[0m \u001b[0mstderr\u001b[0m \u001b[0;34m\u003d\u001b[0m \u001b[0mres\u001b[0m\u001b[0;34m.\u001b[0m\u001b[0mcommunicate\u001b[0m\u001b[0;34m(\u001b[0m\u001b[0minput\u001b[0m\u001b[0;34m\u003d\u001b[0m\u001b[0mstdin_data\u001b[0m\u001b[0;34m)\u001b[0m\u001b[0;34m\u001b[0m\u001b[0m\n\u001b[1;32m    265\u001b[0m     \u001b[0moutput\u001b[0m \u001b[0;34m\u003d\u001b[0m \u001b[0moutput\u001b[0m\u001b[0;34m.\u001b[0m\u001b[0mdecode\u001b[0m\u001b[0;34m(\u001b[0m\u001b[0;34m\"utf-8\"\u001b[0m\u001b[0;34m,\u001b[0m \u001b[0;34m\u0027ignore\u0027\u001b[0m\u001b[0;34m)\u001b[0m\u001b[0;34m\u001b[0m\u001b[0m\n",
            "\u001b[0;32m/usr/lib64/python2.7/subprocess.pyc\u001b[0m in \u001b[0;36m__init__\u001b[0;34m(self, args, bufsize, executable, stdin, stdout, stderr, preexec_fn, close_fds, shell, cwd, env, universal_newlines, startupinfo, creationflags)\u001b[0m\n\u001b[1;32m    709\u001b[0m                                 \u001b[0mp2cread\u001b[0m\u001b[0;34m,\u001b[0m \u001b[0mp2cwrite\u001b[0m\u001b[0;34m,\u001b[0m\u001b[0;34m\u001b[0m\u001b[0m\n\u001b[1;32m    710\u001b[0m                                 \u001b[0mc2pread\u001b[0m\u001b[0;34m,\u001b[0m \u001b[0mc2pwrite\u001b[0m\u001b[0;34m,\u001b[0m\u001b[0;34m\u001b[0m\u001b[0m\n\u001b[0;32m--\u003e 711\u001b[0;31m                                 errread, errwrite)\n\u001b[0m\u001b[1;32m    712\u001b[0m         \u001b[0;32mexcept\u001b[0m \u001b[0mException\u001b[0m\u001b[0;34m:\u001b[0m\u001b[0;34m\u001b[0m\u001b[0m\n\u001b[1;32m    713\u001b[0m             \u001b[0;31m# Preserve original exception in case os.close raises.\u001b[0m\u001b[0;34m\u001b[0m\u001b[0;34m\u001b[0m\u001b[0m\n",
            "\u001b[0;32m/usr/lib64/python2.7/subprocess.pyc\u001b[0m in \u001b[0;36m_execute_child\u001b[0;34m(self, args, executable, preexec_fn, close_fds, cwd, env, universal_newlines, startupinfo, creationflags, shell, to_close, p2cread, p2cwrite, c2pread, c2pwrite, errread, errwrite)\u001b[0m\n\u001b[1;32m   1325\u001b[0m                         \u001b[0;32mraise\u001b[0m\u001b[0;34m\u001b[0m\u001b[0m\n\u001b[1;32m   1326\u001b[0m                 \u001b[0mchild_exception\u001b[0m \u001b[0;34m\u003d\u001b[0m \u001b[0mpickle\u001b[0m\u001b[0;34m.\u001b[0m\u001b[0mloads\u001b[0m\u001b[0;34m(\u001b[0m\u001b[0mdata\u001b[0m\u001b[0;34m)\u001b[0m\u001b[0;34m\u001b[0m\u001b[0m\n\u001b[0;32m-\u003e 1327\u001b[0;31m                 \u001b[0;32mraise\u001b[0m \u001b[0mchild_exception\u001b[0m\u001b[0;34m\u001b[0m\u001b[0m\n\u001b[0m\u001b[1;32m   1328\u001b[0m \u001b[0;34m\u001b[0m\u001b[0m\n\u001b[1;32m   1329\u001b[0m \u001b[0;34m\u001b[0m\u001b[0m\n",
            "\u001b[0;31mOSError\u001b[0m: [Errno 13] Permission denied"
          ]
        }
      ]
    },
    {
      "cell_type": "code",
      "metadata": {},
      "source": [],
      "outputs": []
    }
  ]
}