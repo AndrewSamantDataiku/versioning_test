{
 "cells": [
  {
   "cell_type": "code",
   "execution_count": 0,
   "metadata": {},
   "outputs": [],
   "source": [
    "# Recipe Parameters\n",
    "\n",
    "MAX_EPISODES = 500\n",
    "\n",
    "DOWNLOAD_FROM_URL = True\n",
    "\n",
    "CONVERT_TO_WAV = True\n",
    "SAVE_LOCAL_MP3_FILE = False\n",
    "\n",
    "UPLOAD_TO_HDFS = True\n",
    "SAVE_LOCAL_WAV_FILE = False\n",
    "\n",
    "\n",
    "# Load Environment\n",
    "\n",
    "import matplotlib\n",
    "import dataiku\n",
    "import pandas as pd\n",
    "import numpy as np\n",
    "import requests\n",
    "import ffmpeg\n",
    "import speech_recognition as sr\n",
    "import subprocess\n",
    "from pydub import AudioSegment\n",
    "import os\n",
    "import scipy.io.wavfile as wav\n",
    "import speech_recognition as sr\n",
    "\n",
    "\n",
    "r = sr.Recognizer()\n",
    "\n",
    "episodes_sample = dataiku.Dataset(\"episodes_sample\")\n",
    "episodes_sample_df = episodes_sample.get_dataframe()\n",
    "\n",
    "mp3_folder = dataiku.Folder(\"mp3_files_local\")\n",
    "wav_folder = dataiku.Folder(\"wav_files_local\")\n",
    "episode_wavs_hdfs_folder = dataiku.Folder(\"episode_wavs_hdfs\")\n",
    "\n",
    "already_read = 0\n",
    "\n",
    "for row in episodes_sample.iter_rows():\n",
    "\n",
    "    already_read += 1\n",
    "    audio_id = row['id']\n",
    "    audio_id = os.path.normpath(audio_id)\n",
    "    url = row['audio_url']\n",
    "    print(\"Accessing URL: \" + url)\n",
    "    file = requests.get(url)\n",
    "    print(audio_id)\n",
    "\n",
    "    if DOWNLOAD_FROM_URL == True:\n",
    "        with mp3_folder.get_writer(audio_id + \".mp3\") as w:\n",
    "            w.write(file.content)\n",
    "    if CONVERT_TO_WAV == True:\n",
    "        subprocess.call([\"/opt/ffmpeg/bin/ffmpeg\",\"-y\",\n",
    "                             \"-i\",mp3_folder.get_path() + \"/\" + audio_id + \".mp3\",\n",
    "                             \"-r\",\"16000\",\n",
    "                             \"-ac\",\"1\",\n",
    "                             \"-segment_time\",\"00:00:50\",\n",
    "                             \"-f\",\"segment\",\n",
    "                             wav_folder.get_path() + \"/\" + audio_id+ \"_part_%03d.wav\"])\n",
    "    if SAVE_LOCAL_MP3_FILE == False:\n",
    "        mp3_folder.delete_path(mp3_folder.get_path() + \"/\" + audio_id + \".mp3\")\n",
    "\n",
    "    if UPLOAD_TO_HDFS == True:\n",
    "        for path in wav_folder.list_paths_in_partition():\n",
    "            path = path[1:]\n",
    "            full_path = os.path.join(wav_folder.get_path(), path)\n",
    "            episode_wavs_hdfs_folder.upload_file(path, full_path)\n",
    "            if SAVE_LOCAL_WAV_FILE == False:\n",
    "                wav_folder.delete_path(path)\n",
    "\n",
    "\n",
    "    if already_read == MAX_EPISODES:\n",
    "        break"
   ]
  },
  {
   "cell_type": "code",
   "execution_count": 1,
   "metadata": {},
   "outputs": [],
   "source": [
    "import os\n"
   ]
  },
  {
   "cell_type": "code",
   "execution_count": 2,
   "metadata": {},
   "outputs": [
    {
     "data": {
      "text/plain": [
       "'/data/dataiku/dataiku-dss-8.0.1/spark-standalone-home'"
      ]
     },
     "execution_count": 2,
     "metadata": {},
     "output_type": "execute_result"
    }
   ],
   "source": [
    "os.environ[\"DKU_SPARK_HOME\"]"
   ]
  },
  {
   "cell_type": "code",
   "execution_count": null,
   "metadata": {},
   "outputs": [],
   "source": []
  }
 ],
 "metadata": {
  "associatedRecipe": "compute_uUdj3BDZ",
  "creator": "admin",
  "customFields": {},
  "kernelspec": {
   "display_name": "Python in k8s-pmp-config-demo1 (env ffmpeg_27)",
   "language": "python",
   "name": "py-dku-containerized-venv-ffmpeg_27-k8s-pmp-config-demo1"
  },
  "language_info": {
   "codemirror_mode": {
    "name": "ipython",
    "version": 2
   },
   "file_extension": ".py",
   "mimetype": "text/x-python",
   "name": "python",
   "nbconvert_exporter": "python",
   "pygments_lexer": "ipython2",
   "version": "2.7.5"
  },
  "tags": [
   "recipe-editor"
  ]
 },
 "nbformat": 4,
 "nbformat_minor": 1
}
